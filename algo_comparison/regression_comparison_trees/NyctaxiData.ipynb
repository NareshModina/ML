{
 "cells": [
  {
   "cell_type": "markdown",
   "id": "01face19",
   "metadata": {},
   "source": [
    "# Linear regression vs SVR vs Decision Trees on NYC Taxi dataset"
   ]
  },
  {
   "cell_type": "code",
   "execution_count": 15,
   "id": "b47f1a00",
   "metadata": {},
   "outputs": [],
   "source": [
    "import numpy as np\n",
    "import pandas as pd\n",
    "from sklearn.preprocessing import StandardScaler\n",
    "from sklearn.metrics import mean_squared_error, r2_score, mean_absolute_error\n",
    "from sklearn.tree import DecisionTreeRegressor\n",
    "from sklearn.ensemble import BaggingRegressor, RandomForestRegressor\n",
    "from sklearn.svm import SVR\n",
    "from sklearn.model_selection import train_test_split\n",
    "from sklearn.pipeline import make_pipeline\n",
    "import matplotlib.pyplot as plt\n",
    "import time\n",
    "import joblib\n",
    "import os"
   ]
  },
  {
   "cell_type": "code",
   "execution_count": 16,
   "id": "a3bc1057",
   "metadata": {},
   "outputs": [
    {
     "name": "stdout",
     "output_type": "stream",
     "text": [
      "<class 'pandas.core.frame.DataFrame'>\n",
      "RangeIndex: 3475226 entries, 0 to 3475225\n",
      "Data columns (total 20 columns):\n",
      " #   Column                 Dtype         \n",
      "---  ------                 -----         \n",
      " 0   VendorID               int32         \n",
      " 1   tpep_pickup_datetime   datetime64[us]\n",
      " 2   tpep_dropoff_datetime  datetime64[us]\n",
      " 3   passenger_count        float64       \n",
      " 4   trip_distance          float64       \n",
      " 5   RatecodeID             float64       \n",
      " 6   store_and_fwd_flag     object        \n",
      " 7   PULocationID           int32         \n",
      " 8   DOLocationID           int32         \n",
      " 9   payment_type           int64         \n",
      " 10  fare_amount            float64       \n",
      " 11  extra                  float64       \n",
      " 12  mta_tax                float64       \n",
      " 13  tip_amount             float64       \n",
      " 14  tolls_amount           float64       \n",
      " 15  improvement_surcharge  float64       \n",
      " 16  total_amount           float64       \n",
      " 17  congestion_surcharge   float64       \n",
      " 18  Airport_fee            float64       \n",
      " 19  cbd_congestion_fee     float64       \n",
      "dtypes: datetime64[us](2), float64(13), int32(3), int64(1), object(1)\n",
      "memory usage: 490.5+ MB\n"
     ]
    }
   ],
   "source": [
    "#Load dataset offline. dataset can be downloaded from: https://www.nyc.gov/site/tlc/about/tlc-trip-record-data.page\n",
    "df = pd.read_parquet('datasets/nyc_ytaxi_ride.parquet')\n",
    "df.info()"
   ]
  },
  {
   "cell_type": "code",
   "execution_count": 17,
   "id": "f8a6619b",
   "metadata": {},
   "outputs": [
    {
     "name": "stdout",
     "output_type": "stream",
     "text": [
      "   VendorID tpep_pickup_datetime tpep_dropoff_datetime  passenger_count  \\\n",
      "0         1  2025-01-01 00:18:38   2025-01-01 00:26:59              1.0   \n",
      "1         1  2025-01-01 00:32:40   2025-01-01 00:35:13              1.0   \n",
      "2         1  2025-01-01 00:44:04   2025-01-01 00:46:01              1.0   \n",
      "3         2  2025-01-01 00:14:27   2025-01-01 00:20:01              3.0   \n",
      "4         2  2025-01-01 00:21:34   2025-01-01 00:25:06              3.0   \n",
      "\n",
      "   trip_distance  RatecodeID store_and_fwd_flag  PULocationID  DOLocationID  \\\n",
      "0           1.60         1.0                  N           229           237   \n",
      "1           0.50         1.0                  N           236           237   \n",
      "2           0.60         1.0                  N           141           141   \n",
      "3           0.52         1.0                  N           244           244   \n",
      "4           0.66         1.0                  N           244           116   \n",
      "\n",
      "   payment_type  fare_amount  extra  mta_tax  tip_amount  tolls_amount  \\\n",
      "0             1         10.0    3.5      0.5        3.00           0.0   \n",
      "1             1          5.1    3.5      0.5        2.02           0.0   \n",
      "2             1          5.1    3.5      0.5        2.00           0.0   \n",
      "3             2          7.2    1.0      0.5        0.00           0.0   \n",
      "4             2          5.8    1.0      0.5        0.00           0.0   \n",
      "\n",
      "   improvement_surcharge  total_amount  congestion_surcharge  Airport_fee  \\\n",
      "0                    1.0         18.00                   2.5          0.0   \n",
      "1                    1.0         12.12                   2.5          0.0   \n",
      "2                    1.0         12.10                   2.5          0.0   \n",
      "3                    1.0          9.70                   0.0          0.0   \n",
      "4                    1.0          8.30                   0.0          0.0   \n",
      "\n",
      "   cbd_congestion_fee  \n",
      "0                 0.0  \n",
      "1                 0.0  \n",
      "2                 0.0  \n",
      "3                 0.0  \n",
      "4                 0.0  \n"
     ]
    }
   ],
   "source": [
    "print(df.head())"
   ]
  },
  {
   "cell_type": "markdown",
   "id": "a9c62d3d",
   "metadata": {},
   "source": [
    "## Feature engineering and data cleaning"
   ]
  },
  {
   "cell_type": "code",
   "execution_count": 18,
   "id": "41a82c83",
   "metadata": {},
   "outputs": [],
   "source": [
    "# Convert the datetime columns to pandas datetime format if not already\n",
    "df['tpep_pickup_datetime'] = pd.to_datetime(df['tpep_pickup_datetime'])\n",
    "df['tpep_dropoff_datetime'] = pd.to_datetime(df['tpep_dropoff_datetime'])\n",
    "\n",
    "# Calculate trip duration in minutes (or your preferred unit)\n",
    "df['trip_duration'] = (df['tpep_dropoff_datetime'] - df['tpep_pickup_datetime']).dt.total_seconds() / 60"
   ]
  },
  {
   "cell_type": "code",
   "execution_count": 19,
   "id": "f0c3a160",
   "metadata": {},
   "outputs": [
    {
     "name": "stdout",
     "output_type": "stream",
     "text": [
      "Remaining features: ['passenger_count', 'trip_distance', 'RatecodeID', 'PULocationID', 'DOLocationID', 'congestion_surcharge', 'Airport_fee', 'cbd_congestion_fee', 'trip_duration', 'pickup_hour', 'pickup_day_of_week', 'is_rush_hour']\n"
     ]
    }
   ],
   "source": [
    "\n",
    "# Ensure datetime columns are in the correct format\n",
    "df['tpep_pickup_datetime'] = pd.to_datetime(df['tpep_pickup_datetime'])\n",
    "df['tpep_dropoff_datetime'] = pd.to_datetime(df['tpep_dropoff_datetime'])\n",
    "\n",
    "# Verify trip_duration is correct (in minutes)\n",
    "df['trip_duration'] = (df['tpep_dropoff_datetime'] - df['tpep_pickup_datetime']).dt.total_seconds() / 60\n",
    "\n",
    "# Data cleaning: Remove invalid durations (e.g., negative or zero)\n",
    "df = df[df['trip_duration'] > 0]\n",
    "\n",
    "# Feature engineering: Extract time-based features\n",
    "df['pickup_hour'] = df['tpep_pickup_datetime'].dt.hour\n",
    "df['pickup_day_of_week'] = df['tpep_pickup_datetime'].dt.dayofweek  # 0=Mon, 6=Sun\n",
    "df['is_rush_hour'] = df['pickup_hour'].apply(lambda x: 1 if x in [7, 8, 16, 17, 18] else 0)\n",
    "\n",
    "# List of features to remove\n",
    "features_to_remove = [\n",
    "    'VendorID',\n",
    "    'tpep_pickup_datetime',\n",
    "    'tpep_dropoff_datetime',\n",
    "    'store_and_fwd_flag',\n",
    "    'payment_type',\n",
    "    'fare_amount',\n",
    "    'extra',\n",
    "    'mta_tax',\n",
    "    'tip_amount',\n",
    "    'tolls_amount',\n",
    "    'improvement_surcharge',\n",
    "    'total_amount'\n",
    "]\n",
    "\n",
    "# Drop irrelevant features\n",
    "df = df.drop(columns=features_to_remove)\n",
    "\n",
    "# Final features\n",
    "print(\"Remaining features:\", df.columns.tolist())\n",
    "\n",
    "# Optional: Save the processed dataset\n",
    "# df.to_csv('processed_nyc_taxi_data.csv', index=False)"
   ]
  },
  {
   "cell_type": "code",
   "execution_count": 20,
   "id": "2021cb12",
   "metadata": {},
   "outputs": [
    {
     "name": "stdout",
     "output_type": "stream",
     "text": [
      "<class 'pandas.core.frame.DataFrame'>\n",
      "Index: 3473175 entries, 0 to 3475225\n",
      "Data columns (total 12 columns):\n",
      " #   Column                Dtype  \n",
      "---  ------                -----  \n",
      " 0   passenger_count       float64\n",
      " 1   trip_distance         float64\n",
      " 2   RatecodeID            float64\n",
      " 3   PULocationID          int32  \n",
      " 4   DOLocationID          int32  \n",
      " 5   congestion_surcharge  float64\n",
      " 6   Airport_fee           float64\n",
      " 7   cbd_congestion_fee    float64\n",
      " 8   trip_duration         float64\n",
      " 9   pickup_hour           int32  \n",
      " 10  pickup_day_of_week    int32  \n",
      " 11  is_rush_hour          int64  \n",
      "dtypes: float64(7), int32(4), int64(1)\n",
      "memory usage: 291.5 MB\n"
     ]
    }
   ],
   "source": [
    "df.info()"
   ]
  },
  {
   "cell_type": "code",
   "execution_count": 21,
   "id": "c1f318fa",
   "metadata": {},
   "outputs": [],
   "source": [
    "# Remove extreme outliers (e.g., durations > 3 hours or distance > 100 miles)\n",
    "df = df[(df['trip_duration'] <= 180) & (df['trip_distance'] <= 100)]"
   ]
  },
  {
   "cell_type": "code",
   "execution_count": 22,
   "id": "ed4e9db4",
   "metadata": {},
   "outputs": [],
   "source": [
    "df = pd.get_dummies(df, columns=['RatecodeID'], prefix='Ratecode')"
   ]
  },
  {
   "cell_type": "code",
   "execution_count": 23,
   "id": "a631e9ca",
   "metadata": {},
   "outputs": [],
   "source": [
    "scaler = StandardScaler()\n",
    "df[['trip_distance']] = scaler.fit_transform(df[['trip_distance']])"
   ]
  },
  {
   "cell_type": "code",
   "execution_count": 24,
   "id": "2eb49a4c",
   "metadata": {},
   "outputs": [
    {
     "data": {
      "text/html": [
       "<div>\n",
       "<style scoped>\n",
       "    .dataframe tbody tr th:only-of-type {\n",
       "        vertical-align: middle;\n",
       "    }\n",
       "\n",
       "    .dataframe tbody tr th {\n",
       "        vertical-align: top;\n",
       "    }\n",
       "\n",
       "    .dataframe thead th {\n",
       "        text-align: right;\n",
       "    }\n",
       "</style>\n",
       "<table border=\"1\" class=\"dataframe\">\n",
       "  <thead>\n",
       "    <tr style=\"text-align: right;\">\n",
       "      <th></th>\n",
       "      <th>passenger_count</th>\n",
       "      <th>trip_distance</th>\n",
       "      <th>PULocationID</th>\n",
       "      <th>DOLocationID</th>\n",
       "      <th>congestion_surcharge</th>\n",
       "      <th>Airport_fee</th>\n",
       "      <th>cbd_congestion_fee</th>\n",
       "      <th>trip_duration</th>\n",
       "      <th>pickup_hour</th>\n",
       "      <th>pickup_day_of_week</th>\n",
       "      <th>is_rush_hour</th>\n",
       "      <th>Ratecode_1.0</th>\n",
       "      <th>Ratecode_2.0</th>\n",
       "      <th>Ratecode_3.0</th>\n",
       "      <th>Ratecode_4.0</th>\n",
       "      <th>Ratecode_5.0</th>\n",
       "      <th>Ratecode_6.0</th>\n",
       "      <th>Ratecode_99.0</th>\n",
       "    </tr>\n",
       "  </thead>\n",
       "  <tbody>\n",
       "    <tr>\n",
       "      <th>0</th>\n",
       "      <td>1.0</td>\n",
       "      <td>-0.362362</td>\n",
       "      <td>229</td>\n",
       "      <td>237</td>\n",
       "      <td>2.5</td>\n",
       "      <td>0.0</td>\n",
       "      <td>0.0</td>\n",
       "      <td>8.350000</td>\n",
       "      <td>0</td>\n",
       "      <td>2</td>\n",
       "      <td>0</td>\n",
       "      <td>True</td>\n",
       "      <td>False</td>\n",
       "      <td>False</td>\n",
       "      <td>False</td>\n",
       "      <td>False</td>\n",
       "      <td>False</td>\n",
       "      <td>False</td>\n",
       "    </tr>\n",
       "    <tr>\n",
       "      <th>1</th>\n",
       "      <td>1.0</td>\n",
       "      <td>-0.629109</td>\n",
       "      <td>236</td>\n",
       "      <td>237</td>\n",
       "      <td>2.5</td>\n",
       "      <td>0.0</td>\n",
       "      <td>0.0</td>\n",
       "      <td>2.550000</td>\n",
       "      <td>0</td>\n",
       "      <td>2</td>\n",
       "      <td>0</td>\n",
       "      <td>True</td>\n",
       "      <td>False</td>\n",
       "      <td>False</td>\n",
       "      <td>False</td>\n",
       "      <td>False</td>\n",
       "      <td>False</td>\n",
       "      <td>False</td>\n",
       "    </tr>\n",
       "    <tr>\n",
       "      <th>2</th>\n",
       "      <td>1.0</td>\n",
       "      <td>-0.604859</td>\n",
       "      <td>141</td>\n",
       "      <td>141</td>\n",
       "      <td>2.5</td>\n",
       "      <td>0.0</td>\n",
       "      <td>0.0</td>\n",
       "      <td>1.950000</td>\n",
       "      <td>0</td>\n",
       "      <td>2</td>\n",
       "      <td>0</td>\n",
       "      <td>True</td>\n",
       "      <td>False</td>\n",
       "      <td>False</td>\n",
       "      <td>False</td>\n",
       "      <td>False</td>\n",
       "      <td>False</td>\n",
       "      <td>False</td>\n",
       "    </tr>\n",
       "    <tr>\n",
       "      <th>3</th>\n",
       "      <td>3.0</td>\n",
       "      <td>-0.624259</td>\n",
       "      <td>244</td>\n",
       "      <td>244</td>\n",
       "      <td>0.0</td>\n",
       "      <td>0.0</td>\n",
       "      <td>0.0</td>\n",
       "      <td>5.566667</td>\n",
       "      <td>0</td>\n",
       "      <td>2</td>\n",
       "      <td>0</td>\n",
       "      <td>True</td>\n",
       "      <td>False</td>\n",
       "      <td>False</td>\n",
       "      <td>False</td>\n",
       "      <td>False</td>\n",
       "      <td>False</td>\n",
       "      <td>False</td>\n",
       "    </tr>\n",
       "    <tr>\n",
       "      <th>4</th>\n",
       "      <td>3.0</td>\n",
       "      <td>-0.590309</td>\n",
       "      <td>244</td>\n",
       "      <td>116</td>\n",
       "      <td>0.0</td>\n",
       "      <td>0.0</td>\n",
       "      <td>0.0</td>\n",
       "      <td>3.533333</td>\n",
       "      <td>0</td>\n",
       "      <td>2</td>\n",
       "      <td>0</td>\n",
       "      <td>True</td>\n",
       "      <td>False</td>\n",
       "      <td>False</td>\n",
       "      <td>False</td>\n",
       "      <td>False</td>\n",
       "      <td>False</td>\n",
       "      <td>False</td>\n",
       "    </tr>\n",
       "  </tbody>\n",
       "</table>\n",
       "</div>"
      ],
      "text/plain": [
       "   passenger_count  trip_distance  PULocationID  DOLocationID  \\\n",
       "0              1.0      -0.362362           229           237   \n",
       "1              1.0      -0.629109           236           237   \n",
       "2              1.0      -0.604859           141           141   \n",
       "3              3.0      -0.624259           244           244   \n",
       "4              3.0      -0.590309           244           116   \n",
       "\n",
       "   congestion_surcharge  Airport_fee  cbd_congestion_fee  trip_duration  \\\n",
       "0                   2.5          0.0                 0.0       8.350000   \n",
       "1                   2.5          0.0                 0.0       2.550000   \n",
       "2                   2.5          0.0                 0.0       1.950000   \n",
       "3                   0.0          0.0                 0.0       5.566667   \n",
       "4                   0.0          0.0                 0.0       3.533333   \n",
       "\n",
       "   pickup_hour  pickup_day_of_week  is_rush_hour  Ratecode_1.0  Ratecode_2.0  \\\n",
       "0            0                   2             0          True         False   \n",
       "1            0                   2             0          True         False   \n",
       "2            0                   2             0          True         False   \n",
       "3            0                   2             0          True         False   \n",
       "4            0                   2             0          True         False   \n",
       "\n",
       "   Ratecode_3.0  Ratecode_4.0  Ratecode_5.0  Ratecode_6.0  Ratecode_99.0  \n",
       "0         False         False         False         False          False  \n",
       "1         False         False         False         False          False  \n",
       "2         False         False         False         False          False  \n",
       "3         False         False         False         False          False  \n",
       "4         False         False         False         False          False  "
      ]
     },
     "execution_count": 24,
     "metadata": {},
     "output_type": "execute_result"
    }
   ],
   "source": [
    "df.head()"
   ]
  },
  {
   "cell_type": "code",
   "execution_count": 25,
   "id": "9bbc375d",
   "metadata": {},
   "outputs": [],
   "source": [
    "df = df.dropna()"
   ]
  },
  {
   "cell_type": "code",
   "execution_count": 26,
   "id": "f9487225",
   "metadata": {},
   "outputs": [],
   "source": [
    "X = df.drop(columns=['trip_duration'])\n",
    "y = df['trip_duration']\n",
    "X_train, X_test, y_train, y_test = train_test_split(X,y, test_size=0.2, random_state=42)"
   ]
  },
  {
   "cell_type": "markdown",
   "id": "b03d8d57",
   "metadata": {},
   "source": [
    "## Training and Inference\n",
    "Support vector regressor takes substantial amount of time, I waited for 8 hours, the training wasn't complete. So I abandoned the task. But feel free to run it, caveat is that you may have to wait for a loooong time."
   ]
  },
  {
   "cell_type": "code",
   "execution_count": 27,
   "id": "21ef8f02",
   "metadata": {},
   "outputs": [],
   "source": [
    "models_dir = 'models'\n",
    "os.makedirs(models_dir, exist_ok=True)"
   ]
  },
  {
   "cell_type": "code",
   "execution_count": 28,
   "id": "44187fd9",
   "metadata": {},
   "outputs": [
    {
     "name": "stdout",
     "output_type": "stream",
     "text": [
      "                   Model  Train R²  Test R²  Train RMSE  Test RMSE  Train MAE  \\\n",
      "0          Decision Tree     0.997    0.708       0.619      6.355      0.141   \n",
      "1  Bagging Trees (deg=2)     0.976    0.845       1.811      4.632      1.094   \n",
      "2          Random Forest     0.976    0.845       1.811      4.632      1.094   \n",
      "\n",
      "   Test MAE  Training Time (s)  \n",
      "0     3.736              8.001  \n",
      "1     2.784            579.849  \n",
      "2     2.784          13328.463  \n"
     ]
    }
   ],
   "source": [
    "# Define models\n",
    "models = {\n",
    "    'Decision Tree': DecisionTreeRegressor(random_state=42),\n",
    "    'Bagging Trees': BaggingRegressor(estimator=DecisionTreeRegressor(random_state=42), n_estimators=100, random_state=42),\n",
    "    'Random Forest': RandomForestRegressor(n_estimators=100, random_state=42),\n",
    "    # 'XG Boost': XGBRegressor(n_estimators=100, random_state=42)\n",
    "}\n",
    "\n",
    "\n",
    "results = []\n",
    "dataset_prefix = 'nyc_taxi'\n",
    "\n",
    "# Train and evaluate each model\n",
    "for name, model in models.items():\n",
    "    # Measure training time\n",
    "    start_time = time.time()\n",
    "    model.fit(X_train, y_train)\n",
    "    training_time = time.time() - start_time\n",
    "    \n",
    "    y_train_pred = model.predict(X_train)\n",
    "    y_test_pred = model.predict(X_test)\n",
    "\n",
    "    metrics = {\n",
    "        'Model': name,\n",
    "        'Train R²': r2_score(y_train, y_train_pred),\n",
    "        'Test R²': r2_score(y_test, y_test_pred),\n",
    "        'Train RMSE': np.sqrt(mean_squared_error(y_train, y_train_pred)),\n",
    "        'Test RMSE': np.sqrt(mean_squared_error(y_test, y_test_pred)),\n",
    "        'Train MAE': mean_absolute_error(y_train, y_train_pred),\n",
    "        'Test MAE': mean_absolute_error(y_test, y_test_pred),\n",
    "        'Training Time (s)': training_time\n",
    "    }\n",
    "    results.append(metrics)\n",
    "    # Save the models\n",
    "    model_filename = os.path.join(models_dir, f\"{dataset_prefix}_{name.lower().replace(' ', '_')}.pkl\")\n",
    "    joblib.dump(model, model_filename)\n",
    "\n",
    "# Display results\n",
    "results_df = pd.DataFrame(results)\n",
    "print(results_df.round(3))"
   ]
  },
  {
   "cell_type": "code",
   "execution_count": 32,
   "id": "df1dcc63",
   "metadata": {},
   "outputs": [],
   "source": [
    "#save results\n",
    "os.makedirs('output', exist_ok=True)\n",
    "results_df.to_csv('output/nyctaxi_trees_results.csv', index=False)"
   ]
  },
  {
   "cell_type": "code",
   "execution_count": null,
   "id": "1ae721ee",
   "metadata": {},
   "outputs": [],
   "source": []
  }
 ],
 "metadata": {
  "kernelspec": {
   "display_name": "ml_basic",
   "language": "python",
   "name": "python3"
  },
  "language_info": {
   "codemirror_mode": {
    "name": "ipython",
    "version": 3
   },
   "file_extension": ".py",
   "mimetype": "text/x-python",
   "name": "python",
   "nbconvert_exporter": "python",
   "pygments_lexer": "ipython3",
   "version": "3.12.0"
  }
 },
 "nbformat": 4,
 "nbformat_minor": 5
}
