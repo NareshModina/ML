{
 "cells": [
  {
   "cell_type": "markdown",
   "id": "43554ec3",
   "metadata": {},
   "source": [
    "# Decision tree vs Bagging vs Boosting on Titanic dataset"
   ]
  },
  {
   "cell_type": "code",
   "execution_count": 4,
   "id": "73690521",
   "metadata": {},
   "outputs": [
    {
     "name": "stderr",
     "output_type": "stream",
     "text": [
      "/opt/anaconda3/envs/ml_basic/lib/python3.12/site-packages/tqdm/auto.py:21: TqdmWarning: IProgress not found. Please update jupyter and ipywidgets. See https://ipywidgets.readthedocs.io/en/stable/user_install.html\n",
      "  from .autonotebook import tqdm as notebook_tqdm\n"
     ]
    }
   ],
   "source": [
    "import pandas as pd\n",
    "import numpy as np\n",
    "from sklearn.model_selection import train_test_split\n",
    "from sklearn.preprocessing import LabelEncoder\n",
    "from sklearn.impute import SimpleImputer\n",
    "from sklearn.tree import DecisionTreeClassifier\n",
    "from sklearn.ensemble import BaggingClassifier, RandomForestClassifier, AdaBoostClassifier, GradientBoostingClassifier\n",
    "# from xgboost import XGBClassifier\n",
    "from sklearn.metrics import classification_report\n",
    "import kagglehub\n",
    "from kagglehub import KaggleDatasetAdapter\n",
    "import time\n",
    "import joblib\n",
    "import os\n",
    "from tabulate import tabulate"
   ]
  },
  {
   "cell_type": "markdown",
   "id": "83534f9e",
   "metadata": {},
   "source": [
    "## Load dataset"
   ]
  },
  {
   "cell_type": "code",
   "execution_count": 5,
   "id": "e1134a4f",
   "metadata": {},
   "outputs": [
    {
     "name": "stderr",
     "output_type": "stream",
     "text": [
      "/var/folders/s5/8l7hsvns557325k6kcpgrp1h0000gn/T/ipykernel_25345/1180648293.py:5: DeprecationWarning: load_dataset is deprecated and will be removed in future version.\n",
      "  df = kagglehub.load_dataset(\n"
     ]
    },
    {
     "name": "stdout",
     "output_type": "stream",
     "text": [
      "Warning: Looks like you're using an outdated `kagglehub` version (installed: 0.3.11), please consider upgrading to the latest version (0.3.12).\n",
      "First 5 records:    PassengerId  Survived  Pclass  \\\n",
      "0            1         0       3   \n",
      "1            2         1       1   \n",
      "2            3         1       3   \n",
      "3            4         1       1   \n",
      "4            5         0       3   \n",
      "\n",
      "                                                Name     Sex   Age  SibSp  \\\n",
      "0                            Braund, Mr. Owen Harris    male  22.0      1   \n",
      "1  Cumings, Mrs. John Bradley (Florence Briggs Th...  female  38.0      1   \n",
      "2                             Heikkinen, Miss. Laina  female  26.0      0   \n",
      "3       Futrelle, Mrs. Jacques Heath (Lily May Peel)  female  35.0      1   \n",
      "4                           Allen, Mr. William Henry    male  35.0      0   \n",
      "\n",
      "   Parch            Ticket     Fare Cabin Embarked  \n",
      "0      0         A/5 21171   7.2500   NaN        S  \n",
      "1      0          PC 17599  71.2833   C85        C  \n",
      "2      0  STON/O2. 3101282   7.9250   NaN        S  \n",
      "3      0            113803  53.1000  C123        S  \n",
      "4      0            373450   8.0500   NaN        S  \n"
     ]
    }
   ],
   "source": [
    "# Set the path to the file you'd like to load\n",
    "file_path = \"Titanic-Dataset.csv\"\n",
    "\n",
    "# Load the latest version\n",
    "df = kagglehub.load_dataset(\n",
    "  KaggleDatasetAdapter.PANDAS,\n",
    "  \"yasserh/titanic-dataset\",\n",
    "  file_path,\n",
    "  # Provide any additional arguments like \n",
    "  # sql_query or pandas_kwargs. See the \n",
    "  # documenation for more information:\n",
    "  # https://github.com/Kaggle/kagglehub/blob/main/README.md#kaggledatasetadapterpandas\n",
    ")\n",
    "\n",
    "print(\"First 5 records:\", df.head())"
   ]
  },
  {
   "cell_type": "code",
   "execution_count": 6,
   "id": "0a96bb80",
   "metadata": {},
   "outputs": [],
   "source": [
    "# Laod the dataset offline\n",
    "#df = pd.read_csv('datasets/Titanic-Dataset.xls')\n",
    "#df.info()"
   ]
  },
  {
   "cell_type": "markdown",
   "id": "5b12090f",
   "metadata": {},
   "source": [
    "## Preprocessing"
   ]
  },
  {
   "cell_type": "code",
   "execution_count": 7,
   "id": "da294204",
   "metadata": {},
   "outputs": [
    {
     "name": "stderr",
     "output_type": "stream",
     "text": [
      "/var/folders/s5/8l7hsvns557325k6kcpgrp1h0000gn/T/ipykernel_25345/144587583.py:11: SettingWithCopyWarning: \n",
      "A value is trying to be set on a copy of a slice from a DataFrame.\n",
      "Try using .loc[row_indexer,col_indexer] = value instead\n",
      "\n",
      "See the caveats in the documentation: https://pandas.pydata.org/pandas-docs/stable/user_guide/indexing.html#returning-a-view-versus-a-copy\n",
      "  X['Age'] = age_imputer.fit_transform(X[['Age']])\n",
      "/var/folders/s5/8l7hsvns557325k6kcpgrp1h0000gn/T/ipykernel_25345/144587583.py:14: SettingWithCopyWarning: \n",
      "A value is trying to be set on a copy of a slice from a DataFrame.\n",
      "Try using .loc[row_indexer,col_indexer] = value instead\n",
      "\n",
      "See the caveats in the documentation: https://pandas.pydata.org/pandas-docs/stable/user_guide/indexing.html#returning-a-view-versus-a-copy\n",
      "  X['Embarked'] = embarked_imputer.fit_transform(X[['Embarked']]).ravel()\n",
      "/var/folders/s5/8l7hsvns557325k6kcpgrp1h0000gn/T/ipykernel_25345/144587583.py:18: SettingWithCopyWarning: \n",
      "A value is trying to be set on a copy of a slice from a DataFrame.\n",
      "Try using .loc[row_indexer,col_indexer] = value instead\n",
      "\n",
      "See the caveats in the documentation: https://pandas.pydata.org/pandas-docs/stable/user_guide/indexing.html#returning-a-view-versus-a-copy\n",
      "  X['Sex'] = le_sex.fit_transform(X['Sex'])\n",
      "/var/folders/s5/8l7hsvns557325k6kcpgrp1h0000gn/T/ipykernel_25345/144587583.py:21: SettingWithCopyWarning: \n",
      "A value is trying to be set on a copy of a slice from a DataFrame.\n",
      "Try using .loc[row_indexer,col_indexer] = value instead\n",
      "\n",
      "See the caveats in the documentation: https://pandas.pydata.org/pandas-docs/stable/user_guide/indexing.html#returning-a-view-versus-a-copy\n",
      "  X['Embarked'] = le_embarked.fit_transform(X['Embarked'])\n"
     ]
    }
   ],
   "source": [
    "\n",
    "\n",
    "# Create models subfolder\n",
    "os.makedirs('models', exist_ok=True)\n",
    "\n",
    "# Select relevant features\n",
    "features = ['Pclass', 'Sex', 'Age', 'SibSp', 'Parch', 'Fare', 'Embarked']\n",
    "X = df[features]\n",
    "y = df['Survived']\n",
    "\n",
    "# Handle missing values\n",
    "age_imputer = SimpleImputer(strategy='median')\n",
    "X['Age'] = age_imputer.fit_transform(X[['Age']])\n",
    "\n",
    "embarked_imputer = SimpleImputer(strategy='most_frequent')\n",
    "X['Embarked'] = embarked_imputer.fit_transform(X[['Embarked']]).ravel()\n",
    "\n",
    "# Encode categorical variables\n",
    "le_sex = LabelEncoder()\n",
    "X['Sex'] = le_sex.fit_transform(X['Sex'])\n",
    "\n",
    "le_embarked = LabelEncoder()\n",
    "X['Embarked'] = le_embarked.fit_transform(X['Embarked'])\n",
    "\n",
    "# Split the data\n",
    "X_train, X_test, y_train, y_test = train_test_split(X, y, test_size=0.2, random_state=42)\n"
   ]
  },
  {
   "cell_type": "markdown",
   "id": "f09d47e2",
   "metadata": {},
   "source": [
    "## Training and Inference"
   ]
  },
  {
   "cell_type": "code",
   "execution_count": 8,
   "id": "578fe84a",
   "metadata": {},
   "outputs": [
    {
     "name": "stdout",
     "output_type": "stream",
     "text": [
      "\n",
      "Model Performance Comparison:\n",
      "+-----------------------+---------------------+-----------------+---------------------+\n",
      "| Model                 |   Training Accuracy |   Test Accuracy |   Training Time (s) |\n",
      "|-----------------------+---------------------+-----------------+---------------------|\n",
      "| titanic_Decision Tree |              0.9789 |          0.7821 |              0.0029 |\n",
      "| titanic_Bagging Tree  |              0.9789 |          0.8101 |              0.0944 |\n",
      "| titanic_Random Forest |              0.9789 |          0.8212 |              0.0478 |\n",
      "+-----------------------+---------------------+-----------------+---------------------+\n",
      "\n",
      "Classification Reports (Test Set):\n",
      "\n",
      "titanic_Decision Tree:\n",
      "+------------------+-------------+----------+------------+-----------+\n",
      "| Class            |   Precision |   Recall |   F1-Score |   Support |\n",
      "|------------------+-------------+----------+------------+-----------|\n",
      "| Not Survived (0) |      0.83   |   0.7905 |     0.8098 |       105 |\n",
      "| Survived (1)     |      0.7215 |   0.7703 |     0.7451 |        74 |\n",
      "| Weighted Avg     |      0.7852 |   0.7821 |     0.783  |       179 |\n",
      "+------------------+-------------+----------+------------+-----------+\n",
      "\n",
      "titanic_Bagging Tree:\n",
      "+------------------+-------------+----------+------------+-----------+\n",
      "| Class            |   Precision |   Recall |   F1-Score |   Support |\n",
      "|------------------+-------------+----------+------------+-----------|\n",
      "| Not Survived (0) |      0.8257 |   0.8571 |     0.8411 |       105 |\n",
      "| Survived (1)     |      0.7857 |   0.7432 |     0.7639 |        74 |\n",
      "| Weighted Avg     |      0.8092 |   0.8101 |     0.8092 |       179 |\n",
      "+------------------+-------------+----------+------------+-----------+\n",
      "\n",
      "titanic_Random Forest:\n",
      "+------------------+-------------+----------+------------+-----------+\n",
      "| Class            |   Precision |   Recall |   F1-Score |   Support |\n",
      "|------------------+-------------+----------+------------+-----------|\n",
      "| Not Survived (0) |      0.8288 |   0.8762 |     0.8519 |       105 |\n",
      "| Survived (1)     |      0.8088 |   0.7432 |     0.7746 |        74 |\n",
      "| Weighted Avg     |      0.8206 |   0.8212 |     0.8199 |       179 |\n",
      "+------------------+-------------+----------+------------+-----------+\n"
     ]
    }
   ],
   "source": [
    "\n",
    "# Define models with titanic_ prefix\n",
    "models = {\n",
    "    'titanic_Decision Tree': DecisionTreeClassifier(random_state=42),\n",
    "    'titanic_Bagging Tree': BaggingClassifier(estimator=DecisionTreeClassifier(), n_estimators=100, random_state=42),\n",
    "    'titanic_Random Forest': RandomForestClassifier(n_estimators=100, random_state=42),\n",
    "    'titanic_AdaBoost': AdaBoostClassifier(n_estimators=100, random_state=42),\n",
    "    'titanic_GradientBoost': GradientBoostingClassifier(n_estimators=100, random_state=42)\n",
    "}\n",
    "\n",
    "# Initialize results storage\n",
    "results = []\n",
    "classification_reports = {}\n",
    "\n",
    "# Train and evaluate each model\n",
    "for model_name, model in models.items():\n",
    "    # Measure training time\n",
    "    start_time = time.time()\n",
    "    model.fit(X_train, y_train)\n",
    "    training_time = time.time() - start_time\n",
    "    \n",
    "    # Calculate accuracies\n",
    "    train_accuracy = model.score(X_train, y_train)\n",
    "    test_accuracy = model.score(X_test, y_test)\n",
    "    \n",
    "    # Store results\n",
    "    results.append({\n",
    "        'Model': model_name,\n",
    "        'Training Accuracy': train_accuracy,\n",
    "        'Test Accuracy': test_accuracy,\n",
    "        'Training Time (s)': training_time\n",
    "    })\n",
    "    \n",
    "    # Generate classification report\n",
    "    y_pred = model.predict(X_test)\n",
    "    classification_reports[model_name] = classification_report(y_test, y_pred, output_dict=True)\n",
    "    \n",
    "    # Save the model with titanic_ prefix\n",
    "    joblib.dump(model, f'models/{model_name.replace(\" \", \"_\").lower()}.pkl')\n",
    "\n",
    "# Convert results to DataFrame and format\n",
    "results_df = pd.DataFrame(results)\n",
    "results_df['Training Accuracy'] = results_df['Training Accuracy'].round(4)\n",
    "results_df['Test Accuracy'] = results_df['Test Accuracy'].round(4)\n",
    "results_df['Training Time (s)'] = results_df['Training Time (s)'].round(4)\n",
    "\n",
    "# Print results table\n",
    "print(\"\\nModel Performance Comparison:\")\n",
    "print(tabulate(results_df, headers='keys', tablefmt='psql', showindex=False))\n",
    "\n",
    "# Print classification reports\n",
    "print(\"\\nClassification Reports (Test Set):\")\n",
    "for model_name in models.keys():\n",
    "    print(f\"\\n{model_name}:\")\n",
    "    report = classification_reports[model_name]\n",
    "    report_df = pd.DataFrame({\n",
    "        'Class': ['Not Survived (0)', 'Survived (1)', 'Weighted Avg'],\n",
    "        'Precision': [\n",
    "            report['0']['precision'],\n",
    "            report['1']['precision'],\n",
    "            report['weighted avg']['precision']\n",
    "        ],\n",
    "        'Recall': [\n",
    "            report['0']['recall'],\n",
    "            report['1']['recall'],\n",
    "            report['weighted avg']['recall']\n",
    "        ],\n",
    "        'F1-Score': [\n",
    "            report['0']['f1-score'],\n",
    "            report['1']['f1-score'],\n",
    "            report['weighted avg']['f1-score']\n",
    "        ],\n",
    "        'Support': [\n",
    "            report['0']['support'],\n",
    "            report['1']['support'],\n",
    "            report['weighted avg']['support']\n",
    "        ]\n",
    "    }).round(4)\n",
    "    print(tabulate(report_df, headers='keys', tablefmt='psql', showindex=False))"
   ]
  },
  {
   "cell_type": "code",
   "execution_count": null,
   "id": "c3088046",
   "metadata": {},
   "outputs": [],
   "source": []
  }
 ],
 "metadata": {
  "kernelspec": {
   "display_name": "ml_basic",
   "language": "python",
   "name": "python3"
  },
  "language_info": {
   "codemirror_mode": {
    "name": "ipython",
    "version": 3
   },
   "file_extension": ".py",
   "mimetype": "text/x-python",
   "name": "python",
   "nbconvert_exporter": "python",
   "pygments_lexer": "ipython3",
   "version": "3.12.0"
  }
 },
 "nbformat": 4,
 "nbformat_minor": 5
}
