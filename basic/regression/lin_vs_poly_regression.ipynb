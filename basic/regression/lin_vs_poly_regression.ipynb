{
 "cells": [
  {
   "cell_type": "markdown",
   "id": "9109b136",
   "metadata": {},
   "source": [
    "# Comparision of Polynomial regression with Linear regression"
   ]
  },
  {
   "cell_type": "code",
   "execution_count": 25,
   "id": "7040ae98",
   "metadata": {},
   "outputs": [],
   "source": [
    "# Import necessary libraries\n",
    "import pandas as pd\n",
    "import numpy as np\n",
    "from sklearn.model_selection import train_test_split\n",
    "from sklearn.linear_model import LinearRegression\n",
    "from sklearn.preprocessing import PolynomialFeatures\n",
    "from sklearn.pipeline import make_pipeline\n",
    "from sklearn.metrics import mean_squared_error, r2_score, mean_absolute_error\n",
    "import kagglehub\n",
    "from kagglehub import KaggleDatasetAdapter"
   ]
  },
  {
   "cell_type": "code",
   "execution_count": 26,
   "id": "ab7c6774",
   "metadata": {},
   "outputs": [
    {
     "name": "stderr",
     "output_type": "stream",
     "text": [
      "/var/folders/s5/8l7hsvns557325k6kcpgrp1h0000gn/T/ipykernel_39711/3211683612.py:3: DeprecationWarning: load_dataset is deprecated and will be removed in future version.\n",
      "  df = kagglehub.load_dataset(KaggleDatasetAdapter.PANDAS,\n"
     ]
    },
    {
     "name": "stdout",
     "output_type": "stream",
     "text": [
      "Warning: Looks like you're using an outdated `kagglehub` version (installed: 0.3.11), please consider upgrading to the latest version (0.3.12).\n",
      "<class 'pandas.core.frame.DataFrame'>\n",
      "RangeIndex: 159 entries, 0 to 158\n",
      "Data columns (total 7 columns):\n",
      " #   Column   Non-Null Count  Dtype  \n",
      "---  ------   --------------  -----  \n",
      " 0   Species  159 non-null    object \n",
      " 1   Weight   159 non-null    float64\n",
      " 2   Length1  159 non-null    float64\n",
      " 3   Length2  159 non-null    float64\n",
      " 4   Length3  159 non-null    float64\n",
      " 5   Height   159 non-null    float64\n",
      " 6   Width    159 non-null    float64\n",
      "dtypes: float64(6), object(1)\n",
      "memory usage: 8.8+ KB\n",
      "Original features in the dataset:\n",
      "['Species', 'Weight', 'Length1', 'Length2', 'Length3', 'Height', 'Width']\n",
      "First few rows of the original dataset:\n",
      "  Species  Weight  Length1  Length2  Length3   Height   Width\n",
      "0   Bream   242.0     23.2     25.4     30.0  11.5200  4.0200\n",
      "1   Bream   290.0     24.0     26.3     31.2  12.4800  4.3056\n",
      "2   Bream   340.0     23.9     26.5     31.1  12.3778  4.6961\n",
      "3   Bream   363.0     26.3     29.0     33.5  12.7300  4.4555\n",
      "4   Bream   430.0     26.5     29.0     34.0  12.4440  5.1340\n",
      "\n",
      "Selected features for modeling:\n",
      "['Length1', 'Length2', 'Length3', 'Height', 'Width']\n"
     ]
    }
   ],
   "source": [
    "\n",
    "# Load the Fish dataset\n",
    "file_path = \"Fish.csv\"\n",
    "df = kagglehub.load_dataset(KaggleDatasetAdapter.PANDAS,\n",
    "  \"vipullrathod/fish-market\",\n",
    "  file_path,)\n",
    "df.info()\n",
    "\n",
    "# Print all features\n",
    "print(\"Original features in the dataset:\")\n",
    "print(df.columns.tolist())\n",
    "print(\"First few rows of the original dataset:\")\n",
    "print(df.head())\n",
    "\n",
    "# Select features and target\n",
    "features_to_keep = ['Length1', 'Length2', 'Length3', 'Height', 'Width']  # Exclude Species and Weight\n",
    "X = df[features_to_keep]\n",
    "y = df['Weight']\n",
    "\n",
    "# Print selected features\n",
    "print(\"\\nSelected features for modeling:\")\n",
    "print(X.columns.tolist())\n",
    "\n",
    "# Split the data into training and testing sets\n",
    "X_train, X_test, y_train, y_test = train_test_split(X, y, test_size=0.2, random_state=42)\n"
   ]
  },
  {
   "cell_type": "code",
   "execution_count": 27,
   "id": "06c6d302",
   "metadata": {},
   "outputs": [],
   "source": [
    "\n",
    "# --- Polynomial Regression ---\n",
    "# Create and train the polynomial regression model (degree=2)\n",
    "degree = 2\n",
    "polyreg = make_pipeline(PolynomialFeatures(degree), LinearRegression())\n",
    "polyreg.fit(X_train, y_train)\n",
    "\n",
    "# Make predictions\n",
    "y_pred_poly = polyreg.predict(X_test)\n",
    "\n",
    "# Calculate performance metrics\n",
    "mse_poly = mean_squared_error(y_test, y_pred_poly)\n",
    "rmse_poly = np.sqrt(mse_poly)\n",
    "mae_poly = mean_absolute_error(y_test, y_pred_poly)\n",
    "r2_poly = r2_score(y_test, y_pred_poly)\n"
   ]
  },
  {
   "cell_type": "code",
   "execution_count": 28,
   "id": "1d2de7a0",
   "metadata": {},
   "outputs": [],
   "source": [
    "\n",
    "\n",
    "# --- Linear Regression ---\n",
    "# Create and train the linear regression model\n",
    "lr_model = LinearRegression()\n",
    "lr_model.fit(X_train, y_train)\n",
    "\n",
    "# Make predictions\n",
    "y_pred_lr = lr_model.predict(X_test)\n",
    "\n",
    "# Calculate performance metrics\n",
    "mse_lr = mean_squared_error(y_test, y_pred_lr)\n",
    "rmse_lr = np.sqrt(mse_lr)\n",
    "mae_lr = mean_absolute_error(y_test, y_pred_lr)\n",
    "r2_lr = r2_score(y_test, y_pred_lr)"
   ]
  },
  {
   "cell_type": "code",
   "execution_count": 31,
   "id": "22fe7111",
   "metadata": {},
   "outputs": [
    {
     "name": "stdout",
     "output_type": "stream",
     "text": [
      "\n",
      "Model Performance Comparison:\n",
      "                           Model      MSE   RMSE    MAE  R-squared\n",
      "               Linear Regression 16763.89 129.48 103.91       0.88\n",
      "Polynomial Regression (degree=5)  4655.85  68.23  47.04       0.97\n"
     ]
    }
   ],
   "source": [
    "performance_data = [\n",
    "    {'Model': 'Linear Regression', 'MSE': mse_lr, 'RMSE': rmse_lr, 'MAE': mae_lr, 'R-squared': r2_lr},\n",
    "    {'Model': f'Polynomial Regression (degree={degree})', 'MSE': mse_poly, 'RMSE': rmse_poly, 'MAE': mae_poly, 'R-squared': r2_poly}\n",
    "]\n",
    "performance_df = pd.DataFrame(performance_data)\n",
    "performance_df['MSE'] = performance_df['MSE'].round(2)\n",
    "performance_df['RMSE'] = performance_df['RMSE'].round(2)\n",
    "performance_df['MAE'] = performance_df['MAE'].round(2)\n",
    "performance_df['R-squared'] = performance_df['R-squared'].round(2)\n",
    "\n",
    "print(\"\\nModel Performance Comparison:\")\n",
    "print(performance_df.to_string(index=False))"
   ]
  },
  {
   "cell_type": "markdown",
   "id": "fe2b7910",
   "metadata": {},
   "source": [
    "## showcasing overfitting with higher degrees"
   ]
  },
  {
   "cell_type": "code",
   "execution_count": 30,
   "id": "a32d9555",
   "metadata": {},
   "outputs": [
    {
     "name": "stdout",
     "output_type": "stream",
     "text": [
      "\n",
      "Polynomial Regression Performance Comparison by Degree (Train and Test):\n",
      " Degree  R-squared (Train)  R-squared (Test)  RMSE (Train)  RMSE (Test)  MAE (Train)  MAE (Test)\n",
      "      2             0.9850            0.9673         43.01        68.23        28.44       47.04\n",
      "      3             0.9916            0.9488         32.10        85.35        22.89       54.59\n",
      "      4             0.9999         -422.8700          3.14      7764.73         0.39     3132.86\n",
      "      5             0.9999         -428.9179          3.14      7819.92         0.39     2257.95\n"
     ]
    }
   ],
   "source": [
    "# Import necessary libraries\n",
    "from sklearn.pipeline import make_pipeline\n",
    "\n",
    "# Load the Fish dataset\n",
    "df = pd.read_csv('Fish.csv')\n",
    "\n",
    "# Select features and target\n",
    "features_to_keep = ['Length1', 'Length2', 'Length3', 'Height', 'Width']  # Exclude Species and Weight\n",
    "X = df[features_to_keep]\n",
    "y = df['Weight']\n",
    "\n",
    "# Split the data into training and testing sets\n",
    "X_train, X_test, y_train, y_test = train_test_split(X, y, test_size=0.2, random_state=42)\n",
    "\n",
    "# Initialize lists to store metrics\n",
    "degrees = [2, 3, 4, 5]\n",
    "results = []\n",
    "\n",
    "# Train and evaluate polynomial regression models for each degree\n",
    "for degree in degrees:\n",
    "    # Create and train the polynomial regression model\n",
    "    polyreg = make_pipeline(PolynomialFeatures(degree), LinearRegression())\n",
    "    polyreg.fit(X_train, y_train)\n",
    "    \n",
    "    # Make predictions on training and testing sets\n",
    "    y_pred_train = polyreg.predict(X_train)\n",
    "    y_pred_test = polyreg.predict(X_test)\n",
    "    \n",
    "    # Calculate performance metrics for training set\n",
    "    mse_train = mean_squared_error(y_train, y_pred_train)\n",
    "    rmse_train = np.sqrt(mse_train)\n",
    "    mae_train = mean_absolute_error(y_train, y_pred_train)\n",
    "    r2_train = r2_score(y_train, y_pred_train)\n",
    "    \n",
    "    # Calculate performance metrics for testing set\n",
    "    mse_test = mean_squared_error(y_test, y_pred_test)\n",
    "    rmse_test = np.sqrt(mse_test)\n",
    "    mae_test = mean_absolute_error(y_test, y_pred_test)\n",
    "    r2_test = r2_score(y_test, y_pred_test)\n",
    "    \n",
    "    # Store results\n",
    "    results.append({\n",
    "        'Degree': degree,\n",
    "        'R-squared (Train)': r2_train,\n",
    "        'R-squared (Test)': r2_test,\n",
    "        'RMSE (Train)': rmse_train,\n",
    "        'RMSE (Test)': rmse_test,\n",
    "        'MAE (Train)': mae_train,\n",
    "        'MAE (Test)': mae_test\n",
    "    })\n",
    "\n",
    "# Create a DataFrame to display results\n",
    "results_df = pd.DataFrame(results)\n",
    "\n",
    "# Format the DataFrame for better readability\n",
    "results_df['R-squared (Train)'] = results_df['R-squared (Train)'].round(4)\n",
    "results_df['R-squared (Test)'] = results_df['R-squared (Test)'].round(4)\n",
    "results_df['RMSE (Train)'] = results_df['RMSE (Train)'].round(2)\n",
    "results_df['RMSE (Test)'] = results_df['RMSE (Test)'].round(2)\n",
    "results_df['MAE (Train)'] = results_df['MAE (Train)'].round(2)\n",
    "results_df['MAE (Test)'] = results_df['MAE (Test)'].round(2)\n",
    "\n",
    "# Print the comparison table\n",
    "print(\"\\nPolynomial Regression Performance Comparison by Degree (Train and Test):\")\n",
    "print(results_df.to_string(index=False))"
   ]
  }
 ],
 "metadata": {
  "kernelspec": {
   "display_name": "ml_basic",
   "language": "python",
   "name": "python3"
  },
  "language_info": {
   "codemirror_mode": {
    "name": "ipython",
    "version": 3
   },
   "file_extension": ".py",
   "mimetype": "text/x-python",
   "name": "python",
   "nbconvert_exporter": "python",
   "pygments_lexer": "ipython3",
   "version": "3.12.0"
  }
 },
 "nbformat": 4,
 "nbformat_minor": 5
}
